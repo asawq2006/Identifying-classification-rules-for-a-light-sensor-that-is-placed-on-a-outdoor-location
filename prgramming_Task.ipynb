{
  "nbformat": 4,
  "nbformat_minor": 0,
  "metadata": {
    "colab": {
      "provenance": [],
      "collapsed_sections": []
    },
    "kernelspec": {
      "name": "python3",
      "display_name": "Python 3"
    },
    "language_info": {
      "name": "python"
    }
  },
  "cells": [
    {
      "cell_type": "code",
      "execution_count": 4,
      "metadata": {
        "id": "jQ26pNIZ86Jk"
      },
      "outputs": [],
      "source": [
        "import pandas as pd"
      ]
    },
    {
      "cell_type": "code",
      "source": [
        "# Read from CSV to Pandas DataFrame\n",
        "# the files should be uploaded in the colab files. \n",
        "file1 = \"Mousa.csv\"\n",
        "file2 = \"Mousa_2017-2021.csv\"\n",
        "df1 = pd.read_csv(file1)\n",
        "df2 = pd.read_csv(file2)\n",
        "#df1 = pd.read_csv(url1, index_col=0)\n",
        "#df2 = pd.read_csv(url2, index_col=0)"
      ],
      "metadata": {
        "id": "ktzSyJyIKXbN"
      },
      "execution_count": 69,
      "outputs": []
    },
    {
      "cell_type": "code",
      "source": [
        "df1.shape"
      ],
      "metadata": {
        "colab": {
          "base_uri": "https://localhost:8080/"
        },
        "id": "lG8vkjSELoR6",
        "outputId": "38aef652-8ce4-4a22-8375-c53812b3cbe1"
      },
      "execution_count": 70,
      "outputs": [
        {
          "output_type": "execute_result",
          "data": {
            "text/plain": [
              "(43824, 10)"
            ]
          },
          "metadata": {},
          "execution_count": 70
        }
      ]
    },
    {
      "cell_type": "code",
      "source": [
        "df2.shape"
      ],
      "metadata": {
        "colab": {
          "base_uri": "https://localhost:8080/"
        },
        "id": "zIVcrKGEMUOF",
        "outputId": "f0466940-ba85-419a-ad40-7f382f400343"
      },
      "execution_count": 71,
      "outputs": [
        {
          "output_type": "execute_result",
          "data": {
            "text/plain": [
              "(2456, 4)"
            ]
          },
          "metadata": {},
          "execution_count": 71
        }
      ]
    },
    {
      "cell_type": "code",
      "source": [
        "df2= df2.drop(columns=\"TAGNAME\") # no need for it"
      ],
      "metadata": {
        "id": "yC2exFS7WjMF"
      },
      "execution_count": 72,
      "outputs": []
    },
    {
      "cell_type": "code",
      "source": [
        "df2[\"TIME\"]=pd.to_datetime(df2[\"TIME\"]) # change the datatype \n",
        "df1[\"time\"]=pd.to_datetime(df1[\"time\"]) # change the datatype "
      ],
      "metadata": {
        "id": "kGJtOa5TiZU-"
      },
      "execution_count": 73,
      "outputs": []
    },
    {
      "cell_type": "code",
      "source": [
        "df1=df1.drop(columns=[\"latitude\",\"longitude\"]) # no need for these two features"
      ],
      "metadata": {
        "id": "EAK0ra7HXTCl"
      },
      "execution_count": 74,
      "outputs": []
    },
    {
      "cell_type": "code",
      "source": [
        "import datetime as dt"
      ],
      "metadata": {
        "id": "_5vnUJAAeX7U"
      },
      "execution_count": 75,
      "outputs": []
    },
    {
      "cell_type": "code",
      "source": [
        "df1.dtypes"
      ],
      "metadata": {
        "colab": {
          "base_uri": "https://localhost:8080/"
        },
        "id": "coyV-jdXhyK4",
        "outputId": "db604d60-03a5-4f5b-a461-b878aaea21d5"
      },
      "execution_count": 76,
      "outputs": [
        {
          "output_type": "execute_result",
          "data": {
            "text/plain": [
              "time             datetime64[ns]\n",
              "Temp 2m                 float64\n",
              "Dewpoint 2m             float64\n",
              "Pressure                float64\n",
              "Precipitation           float64\n",
              "GHI                     float64\n",
              "DHI                     float64\n",
              "BNI                     float64\n",
              "dtype: object"
            ]
          },
          "metadata": {},
          "execution_count": 76
        }
      ]
    },
    {
      "cell_type": "code",
      "source": [
        "# in Mousa.csv, we want to exract hour, minute, second, day, month, year. Each \n",
        "# in a seprate columne.\n",
        "\n",
        "df1['hour']=df1[\"time\"].dt.hour\n",
        "df1['minute']=df1[\"time\"].dt.minute\n",
        "df1['second']=df1[\"time\"].dt.second\n",
        "df1['year']=df1[\"time\"].dt.year\n",
        "df1['month']=df1[\"time\"].dt.month\n",
        "df1['day']=df1[\"time\"].dt.day"
      ],
      "metadata": {
        "id": "tXlSdbmUrFC4"
      },
      "execution_count": 77,
      "outputs": []
    },
    {
      "cell_type": "code",
      "source": [
        "# in Mousa_2017-2021.csv, we want to exract hour, minute, second, day, month, year. Each \n",
        "# in a seprate columne.\n",
        "\n",
        "\n",
        "df2['hour']=df2[\"TIME\"].dt.hour\n",
        "df2['minute']=df2[\"TIME\"].dt.minute\n",
        "df2['second']=df2[\"TIME\"].dt.second\n",
        "df2['year']=df2[\"TIME\"].dt.year\n",
        "df2['month']=df2[\"TIME\"].dt.month\n",
        "df2['day']=df2[\"TIME\"].dt.day"
      ],
      "metadata": {
        "id": "U_WVGzgwsqrg"
      },
      "execution_count": 78,
      "outputs": []
    },
    {
      "cell_type": "code",
      "source": [
        "# the idea here is: we have to dataset, the first dataset has features of sun angle and when the sensor is on/off in a second interval. the second\n",
        "# dataset has info about the weather in an hourly interal\n",
        "\n",
        "# therefore, it so useful to merge the weather features to the on off events only.\n",
        "\n",
        "\n",
        "\n",
        "\n",
        "temp = pd.merge(df1,df2,on=['hour','year','month','day'])"
      ],
      "metadata": {
        "id": "ki3ZOEiRuVOy"
      },
      "execution_count": 79,
      "outputs": []
    },
    {
      "cell_type": "code",
      "source": [
        "temp"
      ],
      "metadata": {
        "colab": {
          "base_uri": "https://localhost:8080/",
          "height": 852
        },
        "id": "hHnN-yqMf-uR",
        "outputId": "d5cc3a2e-3ed4-4031-97c1-46aad08c1c48"
      },
      "execution_count": 80,
      "outputs": [
        {
          "output_type": "execute_result",
          "data": {
            "text/plain": [
              "                    time    Temp 2m  Dewpoint 2m       Pressure  \\\n",
              "0    2020-01-01 09:00:00   8.284569     6.106977  101469.238238   \n",
              "1    2020-01-01 15:00:00   8.657693     6.650865  101094.591085   \n",
              "2    2020-01-02 09:00:00   9.637627     6.106977   99488.362429   \n",
              "3    2020-01-02 15:00:00   9.466230     6.505375   98939.398205   \n",
              "4    2020-01-03 09:00:00   5.377134     1.206551  100122.093188   \n",
              "...                  ...        ...          ...            ...   \n",
              "2451 2019-12-29 15:00:00  10.276099     7.900873  100948.970751   \n",
              "2452 2019-12-30 09:00:00   8.761237     4.632564  100973.106875   \n",
              "2453 2019-12-30 15:00:00   7.942024     4.656771  101158.229751   \n",
              "2454 2019-12-31 08:00:00   8.598426     3.095730  102691.170818   \n",
              "2455 2019-12-31 15:00:00   8.310928     4.556017  102461.104816   \n",
              "\n",
              "      Precipitation     GHI     DHI  BNI  hour  minute_x  second_x  year  \\\n",
              "0          0.000041  5.9203  5.9203  0.0     9         0         0  2020   \n",
              "1          0.000002  0.0000  0.0000  0.0    15         0         0  2020   \n",
              "2          0.000045  5.6391  5.6391  0.0     9         0         0  2020   \n",
              "3          0.000017  0.0000  0.0000  0.0    15         0         0  2020   \n",
              "4          0.000103  6.5493  6.5493  0.0     9         0         0  2020   \n",
              "...             ...     ...     ...  ...   ...       ...       ...   ...   \n",
              "2451       0.000106  0.0000  0.0000  0.0    15         0         0  2019   \n",
              "2452       0.000003  5.5008  5.5008  0.0     9         0         0  2019   \n",
              "2453       0.000104  0.0000  0.0000  0.0    15         0         0  2019   \n",
              "2454       0.000058  0.0000  0.0000  0.0     8         0         0  2019   \n",
              "2455       0.000016  0.0000  0.0000  0.0    15         0         0  2019   \n",
              "\n",
              "      month  day                TIME  SUNANGLE VALUE  minute_y  second_y  \n",
              "0         1    1 2020-01-01 09:22:24  0.794701   Off        22        24  \n",
              "1         1    1 2020-01-01 15:14:58 -0.609025    On        14        58  \n",
              "2         1    2 2020-01-02 09:30:09  1.350653   Off        30         9  \n",
              "3         1    2 2020-01-02 15:27:20 -1.299217    On        27        20  \n",
              "4         1    3 2020-01-03 09:00:19 -0.601137   Off         0        19  \n",
              "...     ...  ...                 ...       ...   ...       ...       ...  \n",
              "2451     12   29 2019-12-29 15:20:56 -1.216804    On        20        56  \n",
              "2452     12   30 2019-12-30 09:02:56 -0.538362   Off         2        56  \n",
              "2453     12   30 2019-12-30 15:32:08 -1.826441    On        32         8  \n",
              "2454     12   31 2019-12-31 08:52:58 -1.148608   Off        52        58  \n",
              "2455     12   31 2019-12-31 15:08:28 -0.275370    On         8        28  \n",
              "\n",
              "[2456 rows x 19 columns]"
            ],
            "text/html": [
              "\n",
              "  <div id=\"df-29c7b2fd-438a-4cda-9208-0cc0cfc55ade\">\n",
              "    <div class=\"colab-df-container\">\n",
              "      <div>\n",
              "<style scoped>\n",
              "    .dataframe tbody tr th:only-of-type {\n",
              "        vertical-align: middle;\n",
              "    }\n",
              "\n",
              "    .dataframe tbody tr th {\n",
              "        vertical-align: top;\n",
              "    }\n",
              "\n",
              "    .dataframe thead th {\n",
              "        text-align: right;\n",
              "    }\n",
              "</style>\n",
              "<table border=\"1\" class=\"dataframe\">\n",
              "  <thead>\n",
              "    <tr style=\"text-align: right;\">\n",
              "      <th></th>\n",
              "      <th>time</th>\n",
              "      <th>Temp 2m</th>\n",
              "      <th>Dewpoint 2m</th>\n",
              "      <th>Pressure</th>\n",
              "      <th>Precipitation</th>\n",
              "      <th>GHI</th>\n",
              "      <th>DHI</th>\n",
              "      <th>BNI</th>\n",
              "      <th>hour</th>\n",
              "      <th>minute_x</th>\n",
              "      <th>second_x</th>\n",
              "      <th>year</th>\n",
              "      <th>month</th>\n",
              "      <th>day</th>\n",
              "      <th>TIME</th>\n",
              "      <th>SUNANGLE</th>\n",
              "      <th>VALUE</th>\n",
              "      <th>minute_y</th>\n",
              "      <th>second_y</th>\n",
              "    </tr>\n",
              "  </thead>\n",
              "  <tbody>\n",
              "    <tr>\n",
              "      <th>0</th>\n",
              "      <td>2020-01-01 09:00:00</td>\n",
              "      <td>8.284569</td>\n",
              "      <td>6.106977</td>\n",
              "      <td>101469.238238</td>\n",
              "      <td>0.000041</td>\n",
              "      <td>5.9203</td>\n",
              "      <td>5.9203</td>\n",
              "      <td>0.0</td>\n",
              "      <td>9</td>\n",
              "      <td>0</td>\n",
              "      <td>0</td>\n",
              "      <td>2020</td>\n",
              "      <td>1</td>\n",
              "      <td>1</td>\n",
              "      <td>2020-01-01 09:22:24</td>\n",
              "      <td>0.794701</td>\n",
              "      <td>Off</td>\n",
              "      <td>22</td>\n",
              "      <td>24</td>\n",
              "    </tr>\n",
              "    <tr>\n",
              "      <th>1</th>\n",
              "      <td>2020-01-01 15:00:00</td>\n",
              "      <td>8.657693</td>\n",
              "      <td>6.650865</td>\n",
              "      <td>101094.591085</td>\n",
              "      <td>0.000002</td>\n",
              "      <td>0.0000</td>\n",
              "      <td>0.0000</td>\n",
              "      <td>0.0</td>\n",
              "      <td>15</td>\n",
              "      <td>0</td>\n",
              "      <td>0</td>\n",
              "      <td>2020</td>\n",
              "      <td>1</td>\n",
              "      <td>1</td>\n",
              "      <td>2020-01-01 15:14:58</td>\n",
              "      <td>-0.609025</td>\n",
              "      <td>On</td>\n",
              "      <td>14</td>\n",
              "      <td>58</td>\n",
              "    </tr>\n",
              "    <tr>\n",
              "      <th>2</th>\n",
              "      <td>2020-01-02 09:00:00</td>\n",
              "      <td>9.637627</td>\n",
              "      <td>6.106977</td>\n",
              "      <td>99488.362429</td>\n",
              "      <td>0.000045</td>\n",
              "      <td>5.6391</td>\n",
              "      <td>5.6391</td>\n",
              "      <td>0.0</td>\n",
              "      <td>9</td>\n",
              "      <td>0</td>\n",
              "      <td>0</td>\n",
              "      <td>2020</td>\n",
              "      <td>1</td>\n",
              "      <td>2</td>\n",
              "      <td>2020-01-02 09:30:09</td>\n",
              "      <td>1.350653</td>\n",
              "      <td>Off</td>\n",
              "      <td>30</td>\n",
              "      <td>9</td>\n",
              "    </tr>\n",
              "    <tr>\n",
              "      <th>3</th>\n",
              "      <td>2020-01-02 15:00:00</td>\n",
              "      <td>9.466230</td>\n",
              "      <td>6.505375</td>\n",
              "      <td>98939.398205</td>\n",
              "      <td>0.000017</td>\n",
              "      <td>0.0000</td>\n",
              "      <td>0.0000</td>\n",
              "      <td>0.0</td>\n",
              "      <td>15</td>\n",
              "      <td>0</td>\n",
              "      <td>0</td>\n",
              "      <td>2020</td>\n",
              "      <td>1</td>\n",
              "      <td>2</td>\n",
              "      <td>2020-01-02 15:27:20</td>\n",
              "      <td>-1.299217</td>\n",
              "      <td>On</td>\n",
              "      <td>27</td>\n",
              "      <td>20</td>\n",
              "    </tr>\n",
              "    <tr>\n",
              "      <th>4</th>\n",
              "      <td>2020-01-03 09:00:00</td>\n",
              "      <td>5.377134</td>\n",
              "      <td>1.206551</td>\n",
              "      <td>100122.093188</td>\n",
              "      <td>0.000103</td>\n",
              "      <td>6.5493</td>\n",
              "      <td>6.5493</td>\n",
              "      <td>0.0</td>\n",
              "      <td>9</td>\n",
              "      <td>0</td>\n",
              "      <td>0</td>\n",
              "      <td>2020</td>\n",
              "      <td>1</td>\n",
              "      <td>3</td>\n",
              "      <td>2020-01-03 09:00:19</td>\n",
              "      <td>-0.601137</td>\n",
              "      <td>Off</td>\n",
              "      <td>0</td>\n",
              "      <td>19</td>\n",
              "    </tr>\n",
              "    <tr>\n",
              "      <th>...</th>\n",
              "      <td>...</td>\n",
              "      <td>...</td>\n",
              "      <td>...</td>\n",
              "      <td>...</td>\n",
              "      <td>...</td>\n",
              "      <td>...</td>\n",
              "      <td>...</td>\n",
              "      <td>...</td>\n",
              "      <td>...</td>\n",
              "      <td>...</td>\n",
              "      <td>...</td>\n",
              "      <td>...</td>\n",
              "      <td>...</td>\n",
              "      <td>...</td>\n",
              "      <td>...</td>\n",
              "      <td>...</td>\n",
              "      <td>...</td>\n",
              "      <td>...</td>\n",
              "      <td>...</td>\n",
              "    </tr>\n",
              "    <tr>\n",
              "      <th>2451</th>\n",
              "      <td>2019-12-29 15:00:00</td>\n",
              "      <td>10.276099</td>\n",
              "      <td>7.900873</td>\n",
              "      <td>100948.970751</td>\n",
              "      <td>0.000106</td>\n",
              "      <td>0.0000</td>\n",
              "      <td>0.0000</td>\n",
              "      <td>0.0</td>\n",
              "      <td>15</td>\n",
              "      <td>0</td>\n",
              "      <td>0</td>\n",
              "      <td>2019</td>\n",
              "      <td>12</td>\n",
              "      <td>29</td>\n",
              "      <td>2019-12-29 15:20:56</td>\n",
              "      <td>-1.216804</td>\n",
              "      <td>On</td>\n",
              "      <td>20</td>\n",
              "      <td>56</td>\n",
              "    </tr>\n",
              "    <tr>\n",
              "      <th>2452</th>\n",
              "      <td>2019-12-30 09:00:00</td>\n",
              "      <td>8.761237</td>\n",
              "      <td>4.632564</td>\n",
              "      <td>100973.106875</td>\n",
              "      <td>0.000003</td>\n",
              "      <td>5.5008</td>\n",
              "      <td>5.5008</td>\n",
              "      <td>0.0</td>\n",
              "      <td>9</td>\n",
              "      <td>0</td>\n",
              "      <td>0</td>\n",
              "      <td>2019</td>\n",
              "      <td>12</td>\n",
              "      <td>30</td>\n",
              "      <td>2019-12-30 09:02:56</td>\n",
              "      <td>-0.538362</td>\n",
              "      <td>Off</td>\n",
              "      <td>2</td>\n",
              "      <td>56</td>\n",
              "    </tr>\n",
              "    <tr>\n",
              "      <th>2453</th>\n",
              "      <td>2019-12-30 15:00:00</td>\n",
              "      <td>7.942024</td>\n",
              "      <td>4.656771</td>\n",
              "      <td>101158.229751</td>\n",
              "      <td>0.000104</td>\n",
              "      <td>0.0000</td>\n",
              "      <td>0.0000</td>\n",
              "      <td>0.0</td>\n",
              "      <td>15</td>\n",
              "      <td>0</td>\n",
              "      <td>0</td>\n",
              "      <td>2019</td>\n",
              "      <td>12</td>\n",
              "      <td>30</td>\n",
              "      <td>2019-12-30 15:32:08</td>\n",
              "      <td>-1.826441</td>\n",
              "      <td>On</td>\n",
              "      <td>32</td>\n",
              "      <td>8</td>\n",
              "    </tr>\n",
              "    <tr>\n",
              "      <th>2454</th>\n",
              "      <td>2019-12-31 08:00:00</td>\n",
              "      <td>8.598426</td>\n",
              "      <td>3.095730</td>\n",
              "      <td>102691.170818</td>\n",
              "      <td>0.000058</td>\n",
              "      <td>0.0000</td>\n",
              "      <td>0.0000</td>\n",
              "      <td>0.0</td>\n",
              "      <td>8</td>\n",
              "      <td>0</td>\n",
              "      <td>0</td>\n",
              "      <td>2019</td>\n",
              "      <td>12</td>\n",
              "      <td>31</td>\n",
              "      <td>2019-12-31 08:52:58</td>\n",
              "      <td>-1.148608</td>\n",
              "      <td>Off</td>\n",
              "      <td>52</td>\n",
              "      <td>58</td>\n",
              "    </tr>\n",
              "    <tr>\n",
              "      <th>2455</th>\n",
              "      <td>2019-12-31 15:00:00</td>\n",
              "      <td>8.310928</td>\n",
              "      <td>4.556017</td>\n",
              "      <td>102461.104816</td>\n",
              "      <td>0.000016</td>\n",
              "      <td>0.0000</td>\n",
              "      <td>0.0000</td>\n",
              "      <td>0.0</td>\n",
              "      <td>15</td>\n",
              "      <td>0</td>\n",
              "      <td>0</td>\n",
              "      <td>2019</td>\n",
              "      <td>12</td>\n",
              "      <td>31</td>\n",
              "      <td>2019-12-31 15:08:28</td>\n",
              "      <td>-0.275370</td>\n",
              "      <td>On</td>\n",
              "      <td>8</td>\n",
              "      <td>28</td>\n",
              "    </tr>\n",
              "  </tbody>\n",
              "</table>\n",
              "<p>2456 rows × 19 columns</p>\n",
              "</div>\n",
              "      <button class=\"colab-df-convert\" onclick=\"convertToInteractive('df-29c7b2fd-438a-4cda-9208-0cc0cfc55ade')\"\n",
              "              title=\"Convert this dataframe to an interactive table.\"\n",
              "              style=\"display:none;\">\n",
              "        \n",
              "  <svg xmlns=\"http://www.w3.org/2000/svg\" height=\"24px\"viewBox=\"0 0 24 24\"\n",
              "       width=\"24px\">\n",
              "    <path d=\"M0 0h24v24H0V0z\" fill=\"none\"/>\n",
              "    <path d=\"M18.56 5.44l.94 2.06.94-2.06 2.06-.94-2.06-.94-.94-2.06-.94 2.06-2.06.94zm-11 1L8.5 8.5l.94-2.06 2.06-.94-2.06-.94L8.5 2.5l-.94 2.06-2.06.94zm10 10l.94 2.06.94-2.06 2.06-.94-2.06-.94-.94-2.06-.94 2.06-2.06.94z\"/><path d=\"M17.41 7.96l-1.37-1.37c-.4-.4-.92-.59-1.43-.59-.52 0-1.04.2-1.43.59L10.3 9.45l-7.72 7.72c-.78.78-.78 2.05 0 2.83L4 21.41c.39.39.9.59 1.41.59.51 0 1.02-.2 1.41-.59l7.78-7.78 2.81-2.81c.8-.78.8-2.07 0-2.86zM5.41 20L4 18.59l7.72-7.72 1.47 1.35L5.41 20z\"/>\n",
              "  </svg>\n",
              "      </button>\n",
              "      \n",
              "  <style>\n",
              "    .colab-df-container {\n",
              "      display:flex;\n",
              "      flex-wrap:wrap;\n",
              "      gap: 12px;\n",
              "    }\n",
              "\n",
              "    .colab-df-convert {\n",
              "      background-color: #E8F0FE;\n",
              "      border: none;\n",
              "      border-radius: 50%;\n",
              "      cursor: pointer;\n",
              "      display: none;\n",
              "      fill: #1967D2;\n",
              "      height: 32px;\n",
              "      padding: 0 0 0 0;\n",
              "      width: 32px;\n",
              "    }\n",
              "\n",
              "    .colab-df-convert:hover {\n",
              "      background-color: #E2EBFA;\n",
              "      box-shadow: 0px 1px 2px rgba(60, 64, 67, 0.3), 0px 1px 3px 1px rgba(60, 64, 67, 0.15);\n",
              "      fill: #174EA6;\n",
              "    }\n",
              "\n",
              "    [theme=dark] .colab-df-convert {\n",
              "      background-color: #3B4455;\n",
              "      fill: #D2E3FC;\n",
              "    }\n",
              "\n",
              "    [theme=dark] .colab-df-convert:hover {\n",
              "      background-color: #434B5C;\n",
              "      box-shadow: 0px 1px 3px 1px rgba(0, 0, 0, 0.15);\n",
              "      filter: drop-shadow(0px 1px 2px rgba(0, 0, 0, 0.3));\n",
              "      fill: #FFFFFF;\n",
              "    }\n",
              "  </style>\n",
              "\n",
              "      <script>\n",
              "        const buttonEl =\n",
              "          document.querySelector('#df-29c7b2fd-438a-4cda-9208-0cc0cfc55ade button.colab-df-convert');\n",
              "        buttonEl.style.display =\n",
              "          google.colab.kernel.accessAllowed ? 'block' : 'none';\n",
              "\n",
              "        async function convertToInteractive(key) {\n",
              "          const element = document.querySelector('#df-29c7b2fd-438a-4cda-9208-0cc0cfc55ade');\n",
              "          const dataTable =\n",
              "            await google.colab.kernel.invokeFunction('convertToInteractive',\n",
              "                                                     [key], {});\n",
              "          if (!dataTable) return;\n",
              "\n",
              "          const docLinkHtml = 'Like what you see? Visit the ' +\n",
              "            '<a target=\"_blank\" href=https://colab.research.google.com/notebooks/data_table.ipynb>data table notebook</a>'\n",
              "            + ' to learn more about interactive tables.';\n",
              "          element.innerHTML = '';\n",
              "          dataTable['output_type'] = 'display_data';\n",
              "          await google.colab.output.renderOutput(dataTable, element);\n",
              "          const docLink = document.createElement('div');\n",
              "          docLink.innerHTML = docLinkHtml;\n",
              "          element.appendChild(docLink);\n",
              "        }\n",
              "      </script>\n",
              "    </div>\n",
              "  </div>\n",
              "  "
            ]
          },
          "metadata": {},
          "execution_count": 80
        }
      ]
    },
    {
      "cell_type": "code",
      "source": [
        "#using map function, to change on off to 1 and 0\n",
        "\n",
        "temp[\"VALUE\"]= temp[\"VALUE\"].map({'On':1,'Off':0})"
      ],
      "metadata": {
        "id": "R7qA69ru3Fpn"
      },
      "execution_count": 82,
      "outputs": []
    },
    {
      "cell_type": "code",
      "source": [
        "temp['VALUE']=temp['VALUE'].astype('int') # cnange the data type to integer"
      ],
      "metadata": {
        "id": "-HkqI_hx3x4f"
      },
      "execution_count": 83,
      "outputs": []
    },
    {
      "cell_type": "code",
      "source": [
        "temp.to_csv(\"after_clean.csv\", index=False) # good to have a copy of merged datasets. "
      ],
      "metadata": {
        "id": "_V81_18H3LsC"
      },
      "execution_count": 84,
      "outputs": []
    },
    {
      "cell_type": "code",
      "source": [
        "temp.VALUE.dtype"
      ],
      "metadata": {
        "colab": {
          "base_uri": "https://localhost:8080/"
        },
        "id": "iiAGOLF-4bul",
        "outputId": "54e01486-b822-431b-8ca4-e64dc0d8542c"
      },
      "execution_count": 85,
      "outputs": [
        {
          "output_type": "execute_result",
          "data": {
            "text/plain": [
              "dtype('int64')"
            ]
          },
          "metadata": {},
          "execution_count": 85
        }
      ]
    },
    {
      "cell_type": "code",
      "source": [
        "temp.columns"
      ],
      "metadata": {
        "colab": {
          "base_uri": "https://localhost:8080/"
        },
        "id": "G8j6oTFAOtin",
        "outputId": "1c080c73-1ea6-4d2f-b5a5-c72e5ce75f7f"
      },
      "execution_count": 86,
      "outputs": [
        {
          "output_type": "execute_result",
          "data": {
            "text/plain": [
              "Index(['time', 'Temp 2m', 'Dewpoint 2m', 'Pressure', 'Precipitation', 'GHI',\n",
              "       'DHI', 'BNI', 'hour', 'minute_x', 'second_x', 'year', 'month', 'day',\n",
              "       'TIME', 'SUNANGLE', 'VALUE', 'minute_y', 'second_y'],\n",
              "      dtype='object')"
            ]
          },
          "metadata": {},
          "execution_count": 86
        }
      ]
    },
    {
      "cell_type": "code",
      "source": [
        "#  prepare the training data. "
      ],
      "metadata": {
        "id": "1kTbALWtRHmi"
      },
      "execution_count": 87,
      "outputs": []
    },
    {
      "cell_type": "code",
      "source": [
        "y=temp.VALUE\n",
        "np.shape(y)"
      ],
      "metadata": {
        "colab": {
          "base_uri": "https://localhost:8080/"
        },
        "id": "W6trSFV8RLyp",
        "outputId": "6005e5ab-5419-4553-88c0-a9fddda5984c"
      },
      "execution_count": 88,
      "outputs": [
        {
          "output_type": "execute_result",
          "data": {
            "text/plain": [
              "(2456,)"
            ]
          },
          "metadata": {},
          "execution_count": 88
        }
      ]
    },
    {
      "cell_type": "code",
      "source": [
        "features = ['Temp 2m', 'Dewpoint 2m', 'Pressure', 'Precipitation', 'GHI',\n",
        "            'DHI', 'BNI', 'hour', 'year', 'month', 'day',\n",
        "            'SUNANGLE', 'minute_y', 'second_y']"
      ],
      "metadata": {
        "id": "ZpoP-GP1RT2p"
      },
      "execution_count": 89,
      "outputs": []
    },
    {
      "cell_type": "code",
      "source": [
        "X =temp[features]\n",
        "X.head()"
      ],
      "metadata": {
        "colab": {
          "base_uri": "https://localhost:8080/",
          "height": 288
        },
        "id": "lt8bqCy1SWUv",
        "outputId": "3c1b0330-07b6-499f-806a-e677d7cd06c0"
      },
      "execution_count": 90,
      "outputs": [
        {
          "output_type": "execute_result",
          "data": {
            "text/plain": [
              "    Temp 2m  Dewpoint 2m       Pressure  Precipitation     GHI     DHI  BNI  \\\n",
              "0  8.284569     6.106977  101469.238238       0.000041  5.9203  5.9203  0.0   \n",
              "1  8.657693     6.650865  101094.591085       0.000002  0.0000  0.0000  0.0   \n",
              "2  9.637627     6.106977   99488.362429       0.000045  5.6391  5.6391  0.0   \n",
              "3  9.466230     6.505375   98939.398205       0.000017  0.0000  0.0000  0.0   \n",
              "4  5.377134     1.206551  100122.093188       0.000103  6.5493  6.5493  0.0   \n",
              "\n",
              "   hour  year  month  day  SUNANGLE  minute_y  second_y  \n",
              "0     9  2020      1    1  0.794701        22        24  \n",
              "1    15  2020      1    1 -0.609025        14        58  \n",
              "2     9  2020      1    2  1.350653        30         9  \n",
              "3    15  2020      1    2 -1.299217        27        20  \n",
              "4     9  2020      1    3 -0.601137         0        19  "
            ],
            "text/html": [
              "\n",
              "  <div id=\"df-a71bc2ca-3d8d-4ad0-a0e8-e720f6edcdb0\">\n",
              "    <div class=\"colab-df-container\">\n",
              "      <div>\n",
              "<style scoped>\n",
              "    .dataframe tbody tr th:only-of-type {\n",
              "        vertical-align: middle;\n",
              "    }\n",
              "\n",
              "    .dataframe tbody tr th {\n",
              "        vertical-align: top;\n",
              "    }\n",
              "\n",
              "    .dataframe thead th {\n",
              "        text-align: right;\n",
              "    }\n",
              "</style>\n",
              "<table border=\"1\" class=\"dataframe\">\n",
              "  <thead>\n",
              "    <tr style=\"text-align: right;\">\n",
              "      <th></th>\n",
              "      <th>Temp 2m</th>\n",
              "      <th>Dewpoint 2m</th>\n",
              "      <th>Pressure</th>\n",
              "      <th>Precipitation</th>\n",
              "      <th>GHI</th>\n",
              "      <th>DHI</th>\n",
              "      <th>BNI</th>\n",
              "      <th>hour</th>\n",
              "      <th>year</th>\n",
              "      <th>month</th>\n",
              "      <th>day</th>\n",
              "      <th>SUNANGLE</th>\n",
              "      <th>minute_y</th>\n",
              "      <th>second_y</th>\n",
              "    </tr>\n",
              "  </thead>\n",
              "  <tbody>\n",
              "    <tr>\n",
              "      <th>0</th>\n",
              "      <td>8.284569</td>\n",
              "      <td>6.106977</td>\n",
              "      <td>101469.238238</td>\n",
              "      <td>0.000041</td>\n",
              "      <td>5.9203</td>\n",
              "      <td>5.9203</td>\n",
              "      <td>0.0</td>\n",
              "      <td>9</td>\n",
              "      <td>2020</td>\n",
              "      <td>1</td>\n",
              "      <td>1</td>\n",
              "      <td>0.794701</td>\n",
              "      <td>22</td>\n",
              "      <td>24</td>\n",
              "    </tr>\n",
              "    <tr>\n",
              "      <th>1</th>\n",
              "      <td>8.657693</td>\n",
              "      <td>6.650865</td>\n",
              "      <td>101094.591085</td>\n",
              "      <td>0.000002</td>\n",
              "      <td>0.0000</td>\n",
              "      <td>0.0000</td>\n",
              "      <td>0.0</td>\n",
              "      <td>15</td>\n",
              "      <td>2020</td>\n",
              "      <td>1</td>\n",
              "      <td>1</td>\n",
              "      <td>-0.609025</td>\n",
              "      <td>14</td>\n",
              "      <td>58</td>\n",
              "    </tr>\n",
              "    <tr>\n",
              "      <th>2</th>\n",
              "      <td>9.637627</td>\n",
              "      <td>6.106977</td>\n",
              "      <td>99488.362429</td>\n",
              "      <td>0.000045</td>\n",
              "      <td>5.6391</td>\n",
              "      <td>5.6391</td>\n",
              "      <td>0.0</td>\n",
              "      <td>9</td>\n",
              "      <td>2020</td>\n",
              "      <td>1</td>\n",
              "      <td>2</td>\n",
              "      <td>1.350653</td>\n",
              "      <td>30</td>\n",
              "      <td>9</td>\n",
              "    </tr>\n",
              "    <tr>\n",
              "      <th>3</th>\n",
              "      <td>9.466230</td>\n",
              "      <td>6.505375</td>\n",
              "      <td>98939.398205</td>\n",
              "      <td>0.000017</td>\n",
              "      <td>0.0000</td>\n",
              "      <td>0.0000</td>\n",
              "      <td>0.0</td>\n",
              "      <td>15</td>\n",
              "      <td>2020</td>\n",
              "      <td>1</td>\n",
              "      <td>2</td>\n",
              "      <td>-1.299217</td>\n",
              "      <td>27</td>\n",
              "      <td>20</td>\n",
              "    </tr>\n",
              "    <tr>\n",
              "      <th>4</th>\n",
              "      <td>5.377134</td>\n",
              "      <td>1.206551</td>\n",
              "      <td>100122.093188</td>\n",
              "      <td>0.000103</td>\n",
              "      <td>6.5493</td>\n",
              "      <td>6.5493</td>\n",
              "      <td>0.0</td>\n",
              "      <td>9</td>\n",
              "      <td>2020</td>\n",
              "      <td>1</td>\n",
              "      <td>3</td>\n",
              "      <td>-0.601137</td>\n",
              "      <td>0</td>\n",
              "      <td>19</td>\n",
              "    </tr>\n",
              "  </tbody>\n",
              "</table>\n",
              "</div>\n",
              "      <button class=\"colab-df-convert\" onclick=\"convertToInteractive('df-a71bc2ca-3d8d-4ad0-a0e8-e720f6edcdb0')\"\n",
              "              title=\"Convert this dataframe to an interactive table.\"\n",
              "              style=\"display:none;\">\n",
              "        \n",
              "  <svg xmlns=\"http://www.w3.org/2000/svg\" height=\"24px\"viewBox=\"0 0 24 24\"\n",
              "       width=\"24px\">\n",
              "    <path d=\"M0 0h24v24H0V0z\" fill=\"none\"/>\n",
              "    <path d=\"M18.56 5.44l.94 2.06.94-2.06 2.06-.94-2.06-.94-.94-2.06-.94 2.06-2.06.94zm-11 1L8.5 8.5l.94-2.06 2.06-.94-2.06-.94L8.5 2.5l-.94 2.06-2.06.94zm10 10l.94 2.06.94-2.06 2.06-.94-2.06-.94-.94-2.06-.94 2.06-2.06.94z\"/><path d=\"M17.41 7.96l-1.37-1.37c-.4-.4-.92-.59-1.43-.59-.52 0-1.04.2-1.43.59L10.3 9.45l-7.72 7.72c-.78.78-.78 2.05 0 2.83L4 21.41c.39.39.9.59 1.41.59.51 0 1.02-.2 1.41-.59l7.78-7.78 2.81-2.81c.8-.78.8-2.07 0-2.86zM5.41 20L4 18.59l7.72-7.72 1.47 1.35L5.41 20z\"/>\n",
              "  </svg>\n",
              "      </button>\n",
              "      \n",
              "  <style>\n",
              "    .colab-df-container {\n",
              "      display:flex;\n",
              "      flex-wrap:wrap;\n",
              "      gap: 12px;\n",
              "    }\n",
              "\n",
              "    .colab-df-convert {\n",
              "      background-color: #E8F0FE;\n",
              "      border: none;\n",
              "      border-radius: 50%;\n",
              "      cursor: pointer;\n",
              "      display: none;\n",
              "      fill: #1967D2;\n",
              "      height: 32px;\n",
              "      padding: 0 0 0 0;\n",
              "      width: 32px;\n",
              "    }\n",
              "\n",
              "    .colab-df-convert:hover {\n",
              "      background-color: #E2EBFA;\n",
              "      box-shadow: 0px 1px 2px rgba(60, 64, 67, 0.3), 0px 1px 3px 1px rgba(60, 64, 67, 0.15);\n",
              "      fill: #174EA6;\n",
              "    }\n",
              "\n",
              "    [theme=dark] .colab-df-convert {\n",
              "      background-color: #3B4455;\n",
              "      fill: #D2E3FC;\n",
              "    }\n",
              "\n",
              "    [theme=dark] .colab-df-convert:hover {\n",
              "      background-color: #434B5C;\n",
              "      box-shadow: 0px 1px 3px 1px rgba(0, 0, 0, 0.15);\n",
              "      filter: drop-shadow(0px 1px 2px rgba(0, 0, 0, 0.3));\n",
              "      fill: #FFFFFF;\n",
              "    }\n",
              "  </style>\n",
              "\n",
              "      <script>\n",
              "        const buttonEl =\n",
              "          document.querySelector('#df-a71bc2ca-3d8d-4ad0-a0e8-e720f6edcdb0 button.colab-df-convert');\n",
              "        buttonEl.style.display =\n",
              "          google.colab.kernel.accessAllowed ? 'block' : 'none';\n",
              "\n",
              "        async function convertToInteractive(key) {\n",
              "          const element = document.querySelector('#df-a71bc2ca-3d8d-4ad0-a0e8-e720f6edcdb0');\n",
              "          const dataTable =\n",
              "            await google.colab.kernel.invokeFunction('convertToInteractive',\n",
              "                                                     [key], {});\n",
              "          if (!dataTable) return;\n",
              "\n",
              "          const docLinkHtml = 'Like what you see? Visit the ' +\n",
              "            '<a target=\"_blank\" href=https://colab.research.google.com/notebooks/data_table.ipynb>data table notebook</a>'\n",
              "            + ' to learn more about interactive tables.';\n",
              "          element.innerHTML = '';\n",
              "          dataTable['output_type'] = 'display_data';\n",
              "          await google.colab.output.renderOutput(dataTable, element);\n",
              "          const docLink = document.createElement('div');\n",
              "          docLink.innerHTML = docLinkHtml;\n",
              "          element.appendChild(docLink);\n",
              "        }\n",
              "      </script>\n",
              "    </div>\n",
              "  </div>\n",
              "  "
            ]
          },
          "metadata": {},
          "execution_count": 90
        }
      ]
    },
    {
      "cell_type": "code",
      "source": [
        "X.columns"
      ],
      "metadata": {
        "colab": {
          "base_uri": "https://localhost:8080/"
        },
        "id": "giSkAoLHgiAY",
        "outputId": "0482463f-762e-4d74-ee12-38b151e54d45"
      },
      "execution_count": 91,
      "outputs": [
        {
          "output_type": "execute_result",
          "data": {
            "text/plain": [
              "Index(['Temp 2m', 'Dewpoint 2m', 'Pressure', 'Precipitation', 'GHI', 'DHI',\n",
              "       'BNI', 'hour', 'year', 'month', 'day', 'SUNANGLE', 'minute_y',\n",
              "       'second_y'],\n",
              "      dtype='object')"
            ]
          },
          "metadata": {},
          "execution_count": 91
        }
      ]
    },
    {
      "cell_type": "code",
      "source": [
        "X.dtypes"
      ],
      "metadata": {
        "colab": {
          "base_uri": "https://localhost:8080/"
        },
        "id": "fVlZpxloRDS-",
        "outputId": "c3cdabcd-3df3-4e5b-91bd-ecf1a87bec69"
      },
      "execution_count": 92,
      "outputs": [
        {
          "output_type": "execute_result",
          "data": {
            "text/plain": [
              "Temp 2m          float64\n",
              "Dewpoint 2m      float64\n",
              "Pressure         float64\n",
              "Precipitation    float64\n",
              "GHI              float64\n",
              "DHI              float64\n",
              "BNI              float64\n",
              "hour               int64\n",
              "year               int64\n",
              "month              int64\n",
              "day                int64\n",
              "SUNANGLE         float64\n",
              "minute_y           int64\n",
              "second_y           int64\n",
              "dtype: object"
            ]
          },
          "metadata": {},
          "execution_count": 92
        }
      ]
    },
    {
      "cell_type": "code",
      "source": [
        "# Exploratory data analysis (EDA)\n",
        "\n",
        "import matplotlib.pyplot as plt\n",
        "\n",
        "# Correlation matrix\n",
        "plt.matshow(X.corr())\n",
        "continuous_features = X.describe().columns\n",
        "plt.xticks(range(len(continuous_features)), continuous_features, rotation=\"45\")\n",
        "plt.yticks(range(len(continuous_features)), continuous_features, rotation=\"45\")\n",
        "plt.colorbar()\n",
        "plt.show()"
      ],
      "metadata": {
        "colab": {
          "base_uri": "https://localhost:8080/",
          "height": 301
        },
        "id": "FW8rXBjms3rp",
        "outputId": "cbc0cd65-3b05-4263-ad3c-5462aee5dd60"
      },
      "execution_count": 93,
      "outputs": [
        {
          "output_type": "display_data",
          "data": {
            "text/plain": [
              "<Figure size 288x288 with 2 Axes>"
            ],
            "image/png": "[encoded data removed]"
          },
          "metadata": {
            "needs_background": "light"
          }
        }
      ]
    },
    {
      "cell_type": "code",
      "source": [
        "# Rows with at least one NaN value\n",
        "import numpy as np\n",
        "import pandas as pd\n",
        "X[pd.isnull(X).any(axis=1)].head()"
      ],
      "metadata": {
        "colab": {
          "base_uri": "https://localhost:8080/",
          "height": 93
        },
        "id": "In_f2k_ktSdn",
        "outputId": "f6c676bf-ba3a-4194-c7f9-04e8a36fd353"
      },
      "execution_count": 94,
      "outputs": [
        {
          "output_type": "execute_result",
          "data": {
            "text/plain": [
              "Empty DataFrame\n",
              "Columns: [Temp 2m, Dewpoint 2m, Pressure, Precipitation, GHI, DHI, BNI, hour, year, month, day, SUNANGLE, minute_y, second_y]\n",
              "Index: []"
            ],
            "text/html": [
              "\n",
              "  <div id=\"df-55c76b52-ef27-4c02-9db8-1f0c2b2bd52d\">\n",
              "    <div class=\"colab-df-container\">\n",
              "      <div>\n",
              "<style scoped>\n",
              "    .dataframe tbody tr th:only-of-type {\n",
              "        vertical-align: middle;\n",
              "    }\n",
              "\n",
              "    .dataframe tbody tr th {\n",
              "        vertical-align: top;\n",
              "    }\n",
              "\n",
              "    .dataframe thead th {\n",
              "        text-align: right;\n",
              "    }\n",
              "</style>\n",
              "<table border=\"1\" class=\"dataframe\">\n",
              "  <thead>\n",
              "    <tr style=\"text-align: right;\">\n",
              "      <th></th>\n",
              "      <th>Temp 2m</th>\n",
              "      <th>Dewpoint 2m</th>\n",
              "      <th>Pressure</th>\n",
              "      <th>Precipitation</th>\n",
              "      <th>GHI</th>\n",
              "      <th>DHI</th>\n",
              "      <th>BNI</th>\n",
              "      <th>hour</th>\n",
              "      <th>year</th>\n",
              "      <th>month</th>\n",
              "      <th>day</th>\n",
              "      <th>SUNANGLE</th>\n",
              "      <th>minute_y</th>\n",
              "      <th>second_y</th>\n",
              "    </tr>\n",
              "  </thead>\n",
              "  <tbody>\n",
              "  </tbody>\n",
              "</table>\n",
              "</div>\n",
              "      <button class=\"colab-df-convert\" onclick=\"convertToInteractive('df-55c76b52-ef27-4c02-9db8-1f0c2b2bd52d')\"\n",
              "              title=\"Convert this dataframe to an interactive table.\"\n",
              "              style=\"display:none;\">\n",
              "        \n",
              "  <svg xmlns=\"http://www.w3.org/2000/svg\" height=\"24px\"viewBox=\"0 0 24 24\"\n",
              "       width=\"24px\">\n",
              "    <path d=\"M0 0h24v24H0V0z\" fill=\"none\"/>\n",
              "    <path d=\"M18.56 5.44l.94 2.06.94-2.06 2.06-.94-2.06-.94-.94-2.06-.94 2.06-2.06.94zm-11 1L8.5 8.5l.94-2.06 2.06-.94-2.06-.94L8.5 2.5l-.94 2.06-2.06.94zm10 10l.94 2.06.94-2.06 2.06-.94-2.06-.94-.94-2.06-.94 2.06-2.06.94z\"/><path d=\"M17.41 7.96l-1.37-1.37c-.4-.4-.92-.59-1.43-.59-.52 0-1.04.2-1.43.59L10.3 9.45l-7.72 7.72c-.78.78-.78 2.05 0 2.83L4 21.41c.39.39.9.59 1.41.59.51 0 1.02-.2 1.41-.59l7.78-7.78 2.81-2.81c.8-.78.8-2.07 0-2.86zM5.41 20L4 18.59l7.72-7.72 1.47 1.35L5.41 20z\"/>\n",
              "  </svg>\n",
              "      </button>\n",
              "      \n",
              "  <style>\n",
              "    .colab-df-container {\n",
              "      display:flex;\n",
              "      flex-wrap:wrap;\n",
              "      gap: 12px;\n",
              "    }\n",
              "\n",
              "    .colab-df-convert {\n",
              "      background-color: #E8F0FE;\n",
              "      border: none;\n",
              "      border-radius: 50%;\n",
              "      cursor: pointer;\n",
              "      display: none;\n",
              "      fill: #1967D2;\n",
              "      height: 32px;\n",
              "      padding: 0 0 0 0;\n",
              "      width: 32px;\n",
              "    }\n",
              "\n",
              "    .colab-df-convert:hover {\n",
              "      background-color: #E2EBFA;\n",
              "      box-shadow: 0px 1px 2px rgba(60, 64, 67, 0.3), 0px 1px 3px 1px rgba(60, 64, 67, 0.15);\n",
              "      fill: #174EA6;\n",
              "    }\n",
              "\n",
              "    [theme=dark] .colab-df-convert {\n",
              "      background-color: #3B4455;\n",
              "      fill: #D2E3FC;\n",
              "    }\n",
              "\n",
              "    [theme=dark] .colab-df-convert:hover {\n",
              "      background-color: #434B5C;\n",
              "      box-shadow: 0px 1px 3px 1px rgba(0, 0, 0, 0.15);\n",
              "      filter: drop-shadow(0px 1px 2px rgba(0, 0, 0, 0.3));\n",
              "      fill: #FFFFFF;\n",
              "    }\n",
              "  </style>\n",
              "\n",
              "      <script>\n",
              "        const buttonEl =\n",
              "          document.querySelector('#df-55c76b52-ef27-4c02-9db8-1f0c2b2bd52d button.colab-df-convert');\n",
              "        buttonEl.style.display =\n",
              "          google.colab.kernel.accessAllowed ? 'block' : 'none';\n",
              "\n",
              "        async function convertToInteractive(key) {\n",
              "          const element = document.querySelector('#df-55c76b52-ef27-4c02-9db8-1f0c2b2bd52d');\n",
              "          const dataTable =\n",
              "            await google.colab.kernel.invokeFunction('convertToInteractive',\n",
              "                                                     [key], {});\n",
              "          if (!dataTable) return;\n",
              "\n",
              "          const docLinkHtml = 'Like what you see? Visit the ' +\n",
              "            '<a target=\"_blank\" href=https://colab.research.google.com/notebooks/data_table.ipynb>data table notebook</a>'\n",
              "            + ' to learn more about interactive tables.';\n",
              "          element.innerHTML = '';\n",
              "          dataTable['output_type'] = 'display_data';\n",
              "          await google.colab.output.renderOutput(dataTable, element);\n",
              "          const docLink = document.createElement('div');\n",
              "          docLink.innerHTML = docLinkHtml;\n",
              "          element.appendChild(docLink);\n",
              "        }\n",
              "      </script>\n",
              "    </div>\n",
              "  </div>\n",
              "  "
            ]
          },
          "metadata": {},
          "execution_count": 94
        }
      ]
    },
    {
      "cell_type": "code",
      "source": [
        "# get the number of missing data points per column\n",
        "missing_values_count = X.isnull().sum()\n",
        "\n",
        "# look at the # of missing points in the first ten columns\n",
        "missing_values_count\n",
        "\n",
        "#there is no missing values at all. "
      ],
      "metadata": {
        "colab": {
          "base_uri": "https://localhost:8080/"
        },
        "id": "leqxJF58LSjz",
        "outputId": "d2bb1369-b1e7-4585-d82c-fb88a7271a63"
      },
      "execution_count": 95,
      "outputs": [
        {
          "output_type": "execute_result",
          "data": {
            "text/plain": [
              "Temp 2m          0\n",
              "Dewpoint 2m      0\n",
              "Pressure         0\n",
              "Precipitation    0\n",
              "GHI              0\n",
              "DHI              0\n",
              "BNI              0\n",
              "hour             0\n",
              "year             0\n",
              "month            0\n",
              "day              0\n",
              "SUNANGLE         0\n",
              "minute_y         0\n",
              "second_y         0\n",
              "dtype: int64"
            ]
          },
          "metadata": {},
          "execution_count": 95
        }
      ]
    },
    {
      "cell_type": "code",
      "source": [
        "# 3 ML models:\n",
        "\n",
        "#--------------------------\n"
      ],
      "metadata": {
        "id": "-0Wlyxqsg38D"
      },
      "execution_count": 96,
      "outputs": []
    },
    {
      "cell_type": "code",
      "source": [
        "import pandas as pd\n",
        "from sklearn.model_selection import train_test_split\n",
        "#Divide data into training and validation subsets\n",
        "train_X, val_X, train_y, val_y = train_test_split(X, y, train_size=0.8, test_size=0.2, random_state=0)\n",
        "\n"
      ],
      "metadata": {
        "id": "w3euts7MKggi"
      },
      "execution_count": 97,
      "outputs": []
    },
    {
      "cell_type": "code",
      "source": [
        "# 1- logistic Regression"
      ],
      "metadata": {
        "id": "7sDAV4JJjG0z"
      },
      "execution_count": null,
      "outputs": []
    },
    {
      "cell_type": "code",
      "source": [
        "from sklearn.linear_model import LogisticRegression\n",
        "# define Model\n",
        "logModel = LogisticRegression(max_iter=5000)\n",
        "#fit Model\n",
        "logModel.fit(train_X, train_y)\n",
        "\n",
        "\n",
        "# get predicted prices on validation data\n",
        "val_predictions = logModel.predict(val_X)\n",
        "print(mean_absolute_error(val_y, val_predictions))\n",
        "\n",
        "lr_mae= mean_absolute_error(val_y, val_predictions)"
      ],
      "metadata": {
        "id": "Qj1GU1JgFvHx",
        "colab": {
          "base_uri": "https://localhost:8080/"
        },
        "outputId": "396f6e80-e0cc-43c1-a333-bd0460989d6e"
      },
      "execution_count": 99,
      "outputs": [
        {
          "output_type": "stream",
          "name": "stdout",
          "text": [
            "0.01016260162601626\n"
          ]
        }
      ]
    },
    {
      "cell_type": "code",
      "source": [
        "# 2- SVM model \"Support Vector Machines\""
      ],
      "metadata": {
        "id": "xN8HRXaRHCxc"
      },
      "execution_count": null,
      "outputs": []
    },
    {
      "cell_type": "code",
      "source": [
        "from sklearn.svm import SVC\n",
        "\n",
        "#define Model\n",
        "SVM_Model = SVC(gamma='auto')\n",
        "# fit model\n",
        "SVM_Model.fit(train_X,train_y)\n",
        "\n",
        "# get predicted prices on validation data\n",
        "val_predictions = SVM_Model.predict(val_X)\n",
        "print(mean_absolute_error(val_y, val_predictions))\n",
        "\n",
        "\n",
        "svm_mae= mean_absolute_error(val_y, val_predictions)"
      ],
      "metadata": {
        "colab": {
          "base_uri": "https://localhost:8080/"
        },
        "id": "iUJP94jHHEnR",
        "outputId": "761a212f-5139-440b-80b1-ce8ffca27857"
      },
      "execution_count": 101,
      "outputs": [
        {
          "output_type": "stream",
          "name": "stdout",
          "text": [
            "0.5223577235772358\n"
          ]
        }
      ]
    },
    {
      "cell_type": "code",
      "source": [
        "# 3- DecisionTreeClassifier"
      ],
      "metadata": {
        "id": "Ef7u8R3XDNiV"
      },
      "execution_count": 102,
      "outputs": []
    },
    {
      "cell_type": "code",
      "source": [
        "from sklearn.ensemble import RandomForestClassifier\n",
        "\n",
        "model = RandomForestClassifier(random_state=1)"
      ],
      "metadata": {
        "id": "WkVWS_LkDP2C"
      },
      "execution_count": 65,
      "outputs": []
    },
    {
      "cell_type": "code",
      "source": [
        "# Define model\n",
        "model = RandomForestClassifier(n_estimators=500)\n",
        "# Fit model\n",
        "model.fit(train_X, train_y)\n",
        "\n",
        "# get predicted prices on validation data\n",
        "val_predictions = model.predict(val_X)\n",
        "print(mean_absolute_error(val_y, val_predictions))\n",
        "\n",
        "rfc_mae = mean_absolute_error(val_y, val_predictions)"
      ],
      "metadata": {
        "colab": {
          "base_uri": "https://localhost:8080/"
        },
        "id": "j3npd6JfHpzS",
        "outputId": "3d040103-3f0d-4a2b-8dbe-27917c176340"
      },
      "execution_count": 103,
      "outputs": [
        {
          "output_type": "stream",
          "name": "stdout",
          "text": [
            "0.018292682926829267\n"
          ]
        }
      ]
    },
    {
      "cell_type": "code",
      "source": [
        "#4- XGBoost- XGBClassifier\n",
        "from xgboost import XGBClassifier\n",
        "#define model\n",
        "XGB_model = XGBClassifier(n_estimators=500)\n",
        "# fit model\n",
        "XGB_model.fit(train_X, train_y)\n",
        "# get predicted prices on validation data\n",
        "val_predictions = XGB_model.predict(val_X)\n",
        "print(mean_absolute_error(val_y, val_predictions))\n",
        "\n",
        "xgb_mae = mean_absolute_error(val_y, val_predictions)"
      ],
      "metadata": {
        "colab": {
          "base_uri": "https://localhost:8080/"
        },
        "id": "S8IOxPuQL0YC",
        "outputId": "db28fd99-a035-4f90-b4c3-63e71adc7e1e"
      },
      "execution_count": 105,
      "outputs": [
        {
          "output_type": "stream",
          "name": "stdout",
          "text": [
            "0.018292682926829267\n"
          ]
        }
      ]
    },
    {
      "cell_type": "code",
      "source": [
        "df = pd.DataFrame({'models':['Log_reg', 'SVM', 'Forest', 'XGB'], 'MAE':[lr_mae,svm_mae, rfc_mae, xgb_mae]})\n",
        "ax = df.plot.bar(x=\"models\", y=\"MAE\", rot=0, figsize=(6,5))\n"
      ],
      "metadata": {
        "colab": {
          "base_uri": "https://localhost:8080/",
          "height": 335
        },
        "id": "Dn1I2BbRQYEq",
        "outputId": "6fd85455-c305-4117-e7cd-03a78b228c1b"
      },
      "execution_count": 133,
      "outputs": [
        {
          "output_type": "display_data",
          "data": {
            "text/plain": [
              "<Figure size 432x360 with 1 Axes>"
            ],
            "image/png": "[encoded data removed]"
          },
          "metadata": {
            "needs_background": "light"
          }
        }
      ]
    },
    {
      "cell_type": "code",
      "source": [
        "# Since the Logistic Regression has the least mean absolute error on testing\n",
        "\n",
        "\n",
        "# I will choose \n",
        "# Logistic Regression, he is the winner in our case. "
      ],
      "metadata": {
        "id": "ghVo8Y6sOnvK"
      },
      "execution_count": 68,
      "outputs": []
    },
    {
      "cell_type": "code",
      "source": [
        "# The End\n",
        "\n",
        "# hope I completed the tasks, successfully. \n",
        "\n",
        "# Bests, \n",
        "#Adel"
      ],
      "metadata": {
        "id": "lg4yMIjNO4Xq"
      },
      "execution_count": 68,
      "outputs": []
    }
  ]
}